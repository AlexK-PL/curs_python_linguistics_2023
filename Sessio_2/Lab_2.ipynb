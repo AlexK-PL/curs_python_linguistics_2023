{
 "cells": [
  {
   "cell_type": "markdown",
   "id": "ba1f5c67",
   "metadata": {},
   "source": [
    "# Python per a Lingüistes"
   ]
  },
  {
   "cell_type": "markdown",
   "id": "ebdc4082",
   "metadata": {},
   "source": [
    "STeL, Universitat de Barcelona, 2023\n",
    "\n",
    "Alex Peiró Lilja"
   ]
  },
  {
   "cell_type": "markdown",
   "id": "932a89ac",
   "metadata": {},
   "source": [
    "En aquesta sessió es posaran en pràctica els conceptes bàsics donats durant la primera sessió i aquesta segona. Treballareu amb les condicions, els bucles *while* i la definició de funcions. Haureu de desenvolupar els vostres primers programes."
   ]
  },
  {
   "cell_type": "markdown",
   "id": "057f07c3",
   "metadata": {},
   "source": [
    "## Notebook 2: Condicions, bucles i funcions"
   ]
  },
  {
   "cell_type": "markdown",
   "id": "76bd0698",
   "metadata": {},
   "source": [
    "### Estructures de decisió"
   ]
  },
  {
   "cell_type": "markdown",
   "id": "a69661e0",
   "metadata": {},
   "source": [
    "Posant en pràctica el que hem donat sobre les condicions:"
   ]
  },
  {
   "cell_type": "code",
   "execution_count": null,
   "id": "67dd1f6b",
   "metadata": {},
   "outputs": [],
   "source": [
    "# Definim primerament una variable per utilitzar-la més tard\n",
    "# L'anomenem hora. Simulem que tenim una hora exacta, sense minuts ni segons. En la realitat podem \n",
    "# obtenir l'hora exacta amb altres programes. Però pel nostre exercici ens val així:\n",
    "\n",
    "hora = 9\n",
    "\n",
    "if hora < 12:\n",
    "    print('Bon dia!')\n",
    "else:\n",
    "    print('Bona tarda!')"
   ]
  },
  {
   "cell_type": "markdown",
   "id": "ebdd698a",
   "metadata": {},
   "source": [
    "Al igual que la funció ``print()``, existeix una funció que ens permet entrar per pantalla valors. Investigueu la següent funció: ``input()``."
   ]
  },
  {
   "cell_type": "markdown",
   "id": "7ab9cee9",
   "metadata": {},
   "source": [
    "Quin és l'argument d'entrada de la funció ``input()``? Es pot guardar la sortida de la funció a una variable? Prova d'imprimir per pantalla el que enregistris a través de la funció ``input()``"
   ]
  },
  {
   "cell_type": "code",
   "execution_count": null,
   "id": "9fdc1a67",
   "metadata": {},
   "outputs": [],
   "source": [
    "# modifiqueu el codi aquí mateix\n",
    "\n",
    "prompt = \"Com et dius? \"\n",
    "input(prompt)"
   ]
  },
  {
   "cell_type": "markdown",
   "id": "a38b33f1",
   "metadata": {},
   "source": [
    "#### Tasques"
   ]
  },
  {
   "cell_type": "code",
   "execution_count": null,
   "id": "6732e2ca",
   "metadata": {},
   "outputs": [],
   "source": [
    "# Tasca 1:\n",
    "# Modifica el codi del principi de manera que retorni els següents valors donades les seves respectives condicions:\n",
    "# - \"Bon dia!\" si l'hora és < 12\n",
    "# - \"Bona tarda!\" si l'hora és entre les 12 y les 18\n",
    "# - \"Bona nit\" si l'hora és > 18\n",
    "\n",
    "# Amb anidació if-else\n",
    "# EXTRA: Un cop funcioni el codi, modifica la declaració de la variable 'hora' de manera que puguis entrar \n",
    "# el valor per pantalla i el forcis a ser un valor de tipus 'int' (recorda les funcions de conversió que vam veure)"
   ]
  },
  {
   "cell_type": "code",
   "execution_count": null,
   "id": "bb334246",
   "metadata": {},
   "outputs": [],
   "source": [
    "# Tasca 2:\n",
    "# Fer el mateix que a la tasca 1, però amb els operadors <= y >= en comptes de < y >\n",
    "# A més, si l'hora és exactament les 12, el programa ha de dir \"Ja és migdia!\" en comptes d'una salutació"
   ]
  },
  {
   "cell_type": "code",
   "execution_count": null,
   "id": "174c6f68",
   "metadata": {},
   "outputs": [],
   "source": [
    "# Tasca 3:\n",
    "# En aquest exemple, programareu un codi que comprovi la \"validesa\" d'una nova contrasenya\n",
    "\n",
    "# La contrasenya antiga actualment és \"password\"\n",
    "old_password=\"password\"\n",
    "\n",
    "# La nova contrasenya s'enregistra en aquesta variable, modifiqueu-la al vostre gust\n",
    "# No poseu cap contrasenya vostra real :-)\n",
    "new_password=\"password\"\n",
    "\n",
    "\n",
    "# Has de comprovar si la nova contrasenya és igual a l'antiga\n",
    "# Si són iguals, el programa haurà d'imprimir un missatge d'error.\n",
    "# A més a més, el programa també comprovarà que les contrasenyes en minúscules siguin diferents\n",
    "\n",
    "# Si la nova contrasenya NO és la mateixa, comprova si la nova contrasenya conté, almenys, 10 caràcters\n",
    "# Si és més curta que 10 caràcters, imprimeix un missatge d'error\n",
    "# Si té 10 o més caràcters, imprimeix un missatge de confirmació de que la nova contrasenya és totalment vàlida\n",
    "\n",
    "# EXTRA: apliqueu la funció ``input()`` per introduir les contrasenyes per pantalla"
   ]
  },
  {
   "cell_type": "markdown",
   "id": "e589adfd",
   "metadata": {},
   "source": [
    "### Bucle *while*"
   ]
  },
  {
   "cell_type": "markdown",
   "id": "4ebe7022",
   "metadata": {},
   "source": [
    "Tal com hem vist, els bucles ens permeten executar blocs de codi múltiples vegades fins que es compleixi certa condició.\n",
    "\n",
    "A continuació, posarem en pràctica el bucle ``while``. Aquest contindrà una condició la qual, mentre sigui certa, mantindrà el bucle. \n",
    "\n",
    "És molt important programar el bloc d'instruccions dins del bucle de manera que, en cert moment, modifiqui la condició que el bucle comprova a cada volta."
   ]
  },
  {
   "cell_type": "code",
   "execution_count": null,
   "id": "3a54e1e0",
   "metadata": {},
   "outputs": [],
   "source": [
    "# Fixeu-vos que si vull imprimir 10 cops la mateixa sentència sense fer ús de bucles, he de repetir-la 10 cops.\n",
    "# Això és extremadament ineficient:\n",
    "\n",
    "print(\"Hello World\")\n",
    "print(\"Hello World\")\n",
    "print(\"Hello World\")\n",
    "print(\"Hello World\")\n",
    "print(\"Hello World\")\n",
    "print(\"Hello World\")\n",
    "print(\"Hello World\")\n",
    "print(\"Hello World\")\n",
    "print(\"Hello World\")\n",
    "print(\"Hello World\")"
   ]
  },
  {
   "cell_type": "code",
   "execution_count": null,
   "id": "5535ec6f",
   "metadata": {},
   "outputs": [],
   "source": [
    "# Ara observem com aplicar un bucle 'while' per obtenir el mateix resultat:\n",
    "\n",
    "num_printed = 0\n",
    "while num_printed < 10:\n",
    "    print(\"Hello World\")\n",
    "    num_printed = num_printed + 1\n",
    "\n",
    "print(\"\\n\")\n",
    "print(\"Ja m'he cansat de saludar\")\n",
    "\n",
    "\n",
    "# Quina és la condició imposada al bucle? Com es modifica al llarg del bucle?"
   ]
  },
  {
   "cell_type": "code",
   "execution_count": null,
   "id": "d8b7de39",
   "metadata": {},
   "outputs": [],
   "source": [
    "# Tasca 4:\n",
    "# Fent ús del bucle 'while', en comptes d'imprimir tan sols \"Hello World\", afegiu també el número d'iteració:\n",
    "# Hello World 1\n",
    "# Hello World 2\n",
    "# ...\n",
    "\n",
    "# Recorda com es concatenen els strings! Penseu quin tipus de variable és el valor d'iteració..."
   ]
  },
  {
   "cell_type": "markdown",
   "id": "269a5c0d",
   "metadata": {},
   "source": [
    "### Funcions i Mètodes"
   ]
  },
  {
   "cell_type": "markdown",
   "id": "59c357e1",
   "metadata": {},
   "source": [
    "Amb les funcions i els mètodes podem nombrar i enregistrar algorismes, tal com fem amb les variables pels valors que volem conservar.\n",
    "\n",
    "Les funcions poden tenir arguments d'entrada i poden retornar valors. Poden realitzar tasques sense haver de retornar cap valor."
   ]
  },
  {
   "cell_type": "code",
   "execution_count": null,
   "id": "8ee7ada7",
   "metadata": {},
   "outputs": [],
   "source": [
    "# Si observem la funció de les diapositives\n",
    "\n",
    "\n",
    "# És un tipus de funció que realitza unes instruccions, però no retorna res\n",
    "# Tenim dos arguments d'entrada: edat i sexe\n",
    "\n",
    "def personal_info(edat, sexe):\n",
    "    # Comprovem si l'edat és menor de 25\n",
    "    if edad <25:\n",
    "        # Comprovem si el sexe és femení\n",
    "        if sexo == \"f\":\n",
    "            # Si l'usuari és més jove de 25 anys i femení, imprimim \"Dona jove\"\n",
    "            print(\"Dona jove\")\n",
    "        else:\n",
    "            # Altrament, si l'usuario és menor de 25 però NO és mujer, imprimim \"Home jove\"\n",
    "            print(\"Home jove\")\n",
    "    else:\n",
    "        # Altrament, si la persona és major o de 25 anys, imprimim \"Persona sàvia\"\n",
    "        print (\"Persona sàvia\")\n",
    "        \n",
    "# Executem aquesta cel·la per carregar en memòria aquesta funció. Ara ja queda enregistrada i podem fer-la servir\n",
    "# posteriorment"
   ]
  },
  {
   "cell_type": "code",
   "execution_count": null,
   "id": "d5e10b7d",
   "metadata": {},
   "outputs": [],
   "source": [
    "# Invoquem a la funció que hem declarat cridant-la pel seu nom i especificant-li els paràmetres.\n",
    "# Fixeu-vos en el codi de la funció. Quin tipus de variables han de ser edat i sexe? Jugueu amb diferents valors\n",
    "personal_info(23,\"f\")\n",
    "\n",
    "# També pots cridar a la funció assignant els valors als paràmetres d'entrada de manera explícita:\n",
    "personal_info(edat=23, sexe=\"f\")  \n",
    "# Si especifiquem paràmetre i valor a l'entrada de la funció, podem alterar l'ordre de les variables.\n",
    "# És el mateix personal_info(edat=23, sexe='f') que personal_info(sexe='f', edat=23)\n",
    "# Això és útil per quan fem servir funcions amb molts paràmetres d'entrada sense conèixer l'ordre.\n",
    "\n",
    "\n",
    "# La función personal_info() s'assembla a la funció print()\n",
    "print(\"Hola\")\n",
    "\n",
    "# No assignem cap variable esperant retorn de la funció, ja que serà sempre None\n",
    "#\n",
    "#  mi_var = print(\"Hola\")  # None\n",
    "#  mi_var = personal_info(23,\"f\")  # None"
   ]
  },
  {
   "cell_type": "code",
   "execution_count": null,
   "id": "7b707741",
   "metadata": {},
   "outputs": [],
   "source": [
    "# A continuació tenim una altra funció que sí retorna valor. Similar a la funció anterior, però amb petites\n",
    "# diferències.\n",
    "# Al igual que la funció personal_info(), personal_info_2() també requereix de dos paràmetres d'entrada:\n",
    "\n",
    "def personal_info_2(edad, sexo):\n",
    "    # Preparem una variable que serà la de sortida:\n",
    "    valor_out = \"\"\n",
    "    if edad < 25:\n",
    "        if sexo == \"f\":\n",
    "            # Aquest cop enregistrem el missatge \"Dona jove\" a la variable valor_out\n",
    "            valor_out = \"Dona jove\"\n",
    "        else:\n",
    "            # Aquest cop enregistrem el missatge \"Home jove\" a la variable valor_out\n",
    "            valor_out = \"Home jove\"\n",
    "    else:\n",
    "        # Aquest cop enregistrem el missatge \"Persona sàvia\" a la variable valor_out\n",
    "        valor_out = \"Persona sàvia\"\n",
    "    \n",
    "    # Retornem el valor de la variable valor_out\n",
    "    return valor_out\n",
    "\n",
    "# Aquest cop, la funció també retorna un valor que pot ser assignat a una variable\n",
    "my_profile = personal_info_2(23,\"f\")\n",
    "\n",
    "# La funció personal_info_2() és similar a la funció len() que compta el número de caràcters d'un string\n",
    "str_len = len(\"Un text\")\n",
    "\n",
    "# Al emmagatzemar la sortida de les funcions en variables, aquestes poden ser usades més endavant\n",
    "print(my_profile)\n",
    "\n",
    "\n",
    "# Tenir sempre en compte el tipus de funció que s'està utilitzant. Quins valors retorna, quants, de quin tipus..."
   ]
  },
  {
   "cell_type": "code",
   "execution_count": null,
   "id": "40a27727",
   "metadata": {},
   "outputs": [],
   "source": [
    "# Tasca 5: escriu una funció que realitzi la mateixa tasca que el primer codi de salutacions. \n",
    "# El paràmetre d'entrada de la funció ha de ser l'hora"
   ]
  },
  {
   "cell_type": "code",
   "execution_count": null,
   "id": "7cd8e1c2",
   "metadata": {},
   "outputs": [],
   "source": [
    "# Tasca 6: defineix una funció per l'exercici de la contrasenya.\n",
    "# Ha de tenir dos paràmetres d'entrada: la contrasenya antiga i la nova"
   ]
  },
  {
   "cell_type": "markdown",
   "id": "324fc0dc",
   "metadata": {},
   "source": [
    "### Exercicis avançats"
   ]
  },
  {
   "cell_type": "markdown",
   "id": "43458607",
   "metadata": {},
   "source": [
    "A continuació teniu una sèrie d'exericis més avançats perquè pogueu posar en pràctica tot el material donat fins ara. Plantegeu amb calma els problemes abans de començar. Si cal, feu esquemes i apunts previs."
   ]
  },
  {
   "cell_type": "markdown",
   "id": "5c9b6165",
   "metadata": {},
   "source": [
    "### Una frase aleatòria\n",
    "\n",
    "Partim d'una funció ja definida anomenada **getRandomWord()**. Aquesta té una llista interna de paraules declarada. Cada cop que es crida aquesta funció, el mòdul ``random`` és importat per generar un índex aleatori de la llista de paraules interna. En definitiva, cada cop que es crida aquesta funció, retorna una paraula aleatòria de la llista. Un d'aquests *strings* és un punt '.'\n",
    "\n",
    "L'objectiu és generar sentències a base de paraules aleatòries extretes d'aquesta llista fins que aparegui l'*string* punt '.'. La sentència pot tenir qualsevol longitud (inclús estar buida), però ha d'acabar en punt. Cada cop que es rebi una nova paraula, aquesta ha de ser impresa amb **print()**.\n",
    "\n",
    "*Hints*\n",
    "* El valor de retorn de la funció **getRandomWord()** pot ser desat a una variable\n",
    "* Assegura't de que **while** funciona en totes les iteracions, incloent la primera paraula. El codi ha de funcionar seqüencialment de principi a final. Potser heu de fer alguna cosa prèvia a la primera iteració..."
   ]
  },
  {
   "cell_type": "code",
   "execution_count": null,
   "id": "f3ee5229",
   "metadata": {},
   "outputs": [],
   "source": [
    "# No has de modificar aquesta funció\n",
    "def getRandomWord():\n",
    "    paraules = ['un', 'el', 'en', 'amb', 'dona', 'home', 'gat', 'gos', 'treballant', 'vaixells', 'volant', 'sabates', '.']\n",
    "    import random\n",
    "    return random.choice(palabras)\n",
    "\n",
    "# Escriu el teu codi\n"
   ]
  },
  {
   "cell_type": "markdown",
   "id": "fa357b73",
   "metadata": {},
   "source": [
    "### Controlant sentències curtes\n",
    "\n",
    "Si la nostra primera versió del generador de sentències ha anat correctament, veurem que la longitud d'aquestes és completament aleatòria (fins que aparegui el punt d'entre totes les opcions). Inclús tenint frases excessivament llargues si tenim mala sort. Per prevenir això, ara hem de limitar la longitud màxima de sentència a 5 paraules (6 si comptem amb el punt final). Reescriu el codi anterior afegint les modificacions pertinents.\n",
    "\n",
    "*Hints*\n",
    "* Caldrà comptar el número d'iteracions del bucle\n",
    "* Recorda que pots jugar amb les expressions booleanes tant com vulguis. Per exemple, unint vàries condicions amb els operadors lògics (and, or, not...)\n",
    "* Assegurar que el programa acaba correctament amb un punt final en tots els casos. Potser et caldrà afegir alguna cosa."
   ]
  },
  {
   "cell_type": "code",
   "execution_count": null,
   "id": "f90d62f5",
   "metadata": {},
   "outputs": [],
   "source": [
    "# Escriu el teu codi aquí\n"
   ]
  },
  {
   "cell_type": "markdown",
   "id": "41840837",
   "metadata": {},
   "source": [
    "### Evitant successives repeticions de paraules\n",
    "\n",
    "Segurament en algunes execucions haurem trobat resultats com **\"home home treballant.\"**. Tot i estar generant frases aleatòries, que surtin paraules repetides en cadena treu encara més sentit al contingut. Així doncs, modificarem el codi per evitar això. Reescriu el teu codi de manera que només imprimeixi una paraula si és diferent a l'anterior.\n",
    "\n",
    "*Hints*\n",
    "* Probablement, fins ara només enregistraves la paraula generada en cada iteració i aquesta es descartava a la següent. Pensa com podries mantenir la paraula de la iteració anterior per poder fer la comprovació pertinent amb la nova paraula."
   ]
  },
  {
   "cell_type": "code",
   "execution_count": null,
   "id": "0272e9bc",
   "metadata": {},
   "outputs": [],
   "source": [
    "# Escriu el teu codi aquí\n"
   ]
  },
  {
   "cell_type": "markdown",
   "id": "b66858f0",
   "metadata": {},
   "source": [
    "### Controlant sentències ni curtes ni llargues\n",
    "\n",
    "Fins ara hem aconseguit un generador de frases curtes per evitar desbordaments. Tot i que també estaria bé si poguessim evitar frases tan curtes. Reescriu el codi perquè només produeixi frases amb longitud entre 5 i 20 paraules més el punt final.\n",
    " \n",
    "\n",
    "*Hints*\n",
    "* Mantenim la condició de que el punt només pot aparèixer al final de la frase\n",
    "* Hauries de distingir la paraula candidata a ser afegida amb la paraula que realment serà afegida\n",
    "* Intenta plantejar el problema amb els operadors lògics\n",
    "* Aquesta part és, potser, la més complexa. Si es complica el problema, simplifica'l intentant resoldre les coses que vegis més clares i aproximar-te poc a poc a la solució."
   ]
  },
  {
   "cell_type": "code",
   "execution_count": null,
   "id": "adcc9fa9",
   "metadata": {},
   "outputs": [],
   "source": [
    "# Escriu el teu codi aquí\n"
   ]
  },
  {
   "cell_type": "markdown",
   "id": "65bbc99b",
   "metadata": {},
   "source": [
    "### Extra: Generar sentències sense repetir cap paraula\n",
    "\n",
    "Després d'haver aconseguit controlar el rang de longitud de les sentències i acabar-les totes correctament amb un punt, adapteu el codi perquè **no es repeteixi cap paraula** dins la pròpia frase. Com la llista interna de la funció **getRandomWord()** és limitada, el rang de longitud de frases haurà d'estar entre 5 i 10 paraules.\n",
    "\n",
    "*Hints*\n",
    "\n",
    "* Si has enregistrat la paraula anterior per comparar amb una sola variable. Pensa quina estructura de dades hem donat i que permet emmagatzemar tants ítems com ens calguin.\n",
    "* Utilitza l'operador 'in' per comprovar si un element es troba dins d'una llista."
   ]
  },
  {
   "cell_type": "code",
   "execution_count": 1,
   "id": "929546bf",
   "metadata": {},
   "outputs": [],
   "source": [
    "# Escriu el teu codi aquí"
   ]
  }
 ],
 "metadata": {
  "kernelspec": {
   "display_name": "Python 3 (ipykernel)",
   "language": "python",
   "name": "python3"
  },
  "language_info": {
   "codemirror_mode": {
    "name": "ipython",
    "version": 3
   },
   "file_extension": ".py",
   "mimetype": "text/x-python",
   "name": "python",
   "nbconvert_exporter": "python",
   "pygments_lexer": "ipython3",
   "version": "3.10.6"
  }
 },
 "nbformat": 4,
 "nbformat_minor": 5
}
