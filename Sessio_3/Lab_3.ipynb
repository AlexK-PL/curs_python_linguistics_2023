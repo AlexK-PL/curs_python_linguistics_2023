{
 "cells": [
  {
   "cell_type": "markdown",
   "metadata": {},
   "source": [
    "# Python per a Lingüistes\n",
    "\n",
    "STeL, Universitat de Barcelona, 2023\n",
    "\n",
    "Alex Peiró Lilja"
   ]
  },
  {
   "cell_type": "markdown",
   "metadata": {},
   "source": [
    "### Notebook 3: Estructures de decisió. Bucles. Funcions 2\n",
    "\n",
    "Seguirem practicant amb les condicions i els bucles, afegint el bucle **for** a la col·lecció. Consulteu i investigueu els recursos donats. Aquí teniu una pàgina útil: [Python Cheatsheet](https://www.pythoncheatsheet.org/)"
   ]
  },
  {
   "cell_type": "code",
   "execution_count": null,
   "metadata": {},
   "outputs": [],
   "source": [
    "# Per començar, observem l'exemple de les diapositives\n",
    "# Fixeu-vos com la variable \"paraula\" té un valor diferent de la llista per cada iteració:\n",
    "for paraula in [\"Això\", \"és\", \"una\", \"frase\"]:\n",
    "    print(paraula)"
   ]
  },
  {
   "cell_type": "code",
   "execution_count": null,
   "metadata": {},
   "outputs": [],
   "source": [
    "# Observeu la funció range() aplicat a un \"for\" loop. Veieu alguna aplicació útil a recòrrer un rang de valors\n",
    "# enters consecutius? (recordeu els índex d'una llista...)\n",
    "\n",
    "n = 5\n",
    "for x in range(n):\n",
    "    print(x)"
   ]
  },
  {
   "cell_type": "code",
   "execution_count": null,
   "metadata": {},
   "outputs": [],
   "source": [
    "# Tasca 1 \n",
    "\n",
    "# Apliqueu el mateix codi que l'exemple del principi, però incloent la funció range() al \"for\". \n",
    "# Recordeu que les llistes tenen índex per accedir als seus ítems! Recordeu, a més, la funció len()"
   ]
  },
  {
   "cell_type": "code",
   "execution_count": null,
   "metadata": {},
   "outputs": [],
   "source": [
    "# Tasca 2\n",
    "\n",
    "# Fer el mateix programa que la setmana passada imprimint \"Hello World\" més el número d'iteració:\n",
    "# Hello World 1\n",
    "# Hello World 2\n",
    "# Hello World 3\n",
    "# ...\n",
    "\n",
    "# Aquest cop utilitzant el bucle \"for\" sense aplicar range() (Versió 1)\n",
    "\n",
    "# Ara apliqueu la funció range() per evitar comptadors (Versió 2)"
   ]
  },
  {
   "cell_type": "code",
   "execution_count": null,
   "metadata": {},
   "outputs": [],
   "source": [
    "# Tasca 3\n",
    "\n",
    "# Escriu una funció que realitzi el mateix que la Tasca 2\n",
    "# Ha de prendre dos paràmetres d'entrada: número de repeticions i text a imprimir. Cap valor de sortida"
   ]
  },
  {
   "cell_type": "code",
   "execution_count": null,
   "metadata": {},
   "outputs": [],
   "source": [
    "# Tasca 4\n",
    "\n",
    "# Fes servir el mateix codi de la sessió anterior per fer la funció salutacio()\n",
    "# Afegeix-li un control per números negatius o superiors a 24\n",
    "# La funció ha de retornar alguna queixa si la hora introduida és negativa o superior a 24\n",
    "# Modifica la funció per tal d'incloure el nom de l'usuari, que serà demanat externament amb input()\n",
    "# Tant nom de l'usuari com l'hora es demanaran externament amb la funció input()\n",
    "\n",
    "# Comproveu el resultat"
   ]
  },
  {
   "cell_type": "code",
   "execution_count": null,
   "metadata": {},
   "outputs": [],
   "source": [
    "# Tasca 5\n",
    "\n",
    "# Utilitzant la nova funció salutacio(), fer un programa que demani un sol cop el nom a l'usuari i després l'hora\n",
    "# Mentre l'hora donada sigui menor a les 18:\n",
    "#     Seguir preguntant l'hora a l'usuari\n",
    "#     Saludar a la persona\n",
    "# Si dóna una hora major o igual a les 18, la funció retorna salutació un últim cop\n",
    "\n",
    "# PISTA - recordeu la función int()"
   ]
  },
  {
   "cell_type": "code",
   "execution_count": null,
   "metadata": {},
   "outputs": [],
   "source": [
    "# Tasca 6\n",
    "\n",
    "# Definir funció info_hora() que imprimeixi els minuts que han passat de l'hora o els que queden per la següent.\n",
    "# Que tingui una sola variable tipus *string* com paràmetre d'entrada\n",
    "# Si el minutatge donat és igual o menor a 30, anunciarem l'hora donada i els minuts passats.\n",
    "# Ex: INPUT: 18:26 --> \"Han passat 26 minuts des de les 18h\"\n",
    "# Si és major de 30, anunciarem els minuts que falten per la següent hora donada.\n",
    "# Ex: INPUT: 18:45 --> \"Falten 15 minuts per les 19h\"\n",
    "\n",
    "# Després demaneu a l'usuari l'hora amb input(). El format ha de ser HH:MM\n",
    "# Crideu la funció per veure el resultat\n",
    "\n",
    "# Recordeu quin tipus de variable retorna la funció input()!\n",
    "# Recordeu com es poden separar *strings*!"
   ]
  },
  {
   "cell_type": "code",
   "execution_count": null,
   "metadata": {},
   "outputs": [],
   "source": [
    "# Tasca 7\n",
    "\n",
    "# Modifiqueu aquesta última funció d'informació horària. Ara ha d'admetre tant format HH:MM com HH, tal com \n",
    "# passava al principi (e.g, 16:45 o 16). Si passem una hora sense minuts, assumim que estem indicant una hora\n",
    "# en punt."
   ]
  },
  {
   "cell_type": "code",
   "execution_count": null,
   "metadata": {},
   "outputs": [],
   "source": [
    "# Tasca 8\n",
    "\n",
    "# Definirem i codificarem una nova funció troba_hora(). Aquesta funció ha de buscar pel text que tindrà com a \n",
    "# paràmetre d'entrada. Aquest text serà prèviament generat, fora de la funció, amb la funció input()\n",
    "\n",
    "# La funció troba_hora() ha de trobar l'hora dins de qualsevol frase que escrivim: \n",
    "# \"Doncs el meu rellotge marca les 16:45h\", \"Abans marcaven les 17:26 al rellotge de la classe.\"\n",
    "\n",
    "# No ha de ser un codi optimitzat. Jugueu amb els bucles i amb condicions. Recordeu què és un string.\n",
    "\n",
    "# La funció ha de tenir un paràmetre d'entrada (text) i un paràmetre de sortida (hora_trobada) els dos en format\n",
    "# string. \n",
    "\n",
    "# Per ara limitem el format de l'hora als textos d'entrada com HH:MM\n",
    "\n",
    "# Proveu la concatenació input() - troba_hora() - info_hora() aprofitant les sortides de les funcions com entrada\n",
    "# de les següents."
   ]
  },
  {
   "cell_type": "code",
   "execution_count": null,
   "metadata": {},
   "outputs": [],
   "source": [
    "# Tasca 9\n",
    "\n",
    "# Si la vostra funció troba_hora() funciona correctament, ara haureu d'afegir codi perquè, a més a més, \n",
    "# tingui en compte possibles frases d'entrada on es doni l'hora exacta com un sol número:\n",
    "# \"El teu rellotge diu que són les 17 en punt!\", \"Doncs són les 6\"\n",
    "# Recordeu que la funció ha de retornar sempre valors de tipus string!\n",
    "\n",
    "# Feu una ullada a la web que us he compartit a la secció \"Manipulating strings\". Trobeu alguna funció/mètode\n",
    "# que us pugui ser d'ajuda?"
   ]
  },
  {
   "cell_type": "code",
   "execution_count": null,
   "metadata": {},
   "outputs": [],
   "source": [
    "# Tasca 10\n",
    "\n",
    "# Volem que l'usuari ens doni el nom d'un país de la Unió Europea\n",
    "# Primerament, feu una llista amb tots els països europeus\n",
    "# El programa ha de fer el següent:\n",
    "#    Demanarà a l'usuari un país\n",
    "#    Si el país pertany a la UE, s'imprimirà \"OK\" i sortirà\n",
    "#    Si el país és incorrecte, el programa retornarà \"país equivocat\" i preguntarà de nou\n",
    "# \n",
    "# Feu recerca sobre l'operador 'in' en les llistes. Podrieu trobar una manera d'aprofitar la declaració \"break\"?"
   ]
  },
  {
   "cell_type": "code",
   "execution_count": null,
   "metadata": {},
   "outputs": [],
   "source": [
    "# OPCIONAL!\n",
    "\n",
    "# No cal que esbrineu el funcionament d'aquesta funció. Senzillament executeu-la i observeu el resultat.\n",
    "# Opcionalment, podeu implementar-la per fer el vostre últim codi més robust a faltes d'accents o dièresis\n",
    "\n",
    "import unicodedata\n",
    "\n",
    "def strip_accents(text):\n",
    "    try:\n",
    "        text = unicode(text, 'utf-8')\n",
    "    except (TypeError, NameError): # unicode is a default on python 3 \n",
    "        pass\n",
    "    text = unicodedata.normalize('NFD', text)\n",
    "    text = text.encode('ascii', 'ignore')\n",
    "    text = text.decode(\"utf-8\")\n",
    "    return str(text)"
   ]
  }
 ],
 "metadata": {
  "kernelspec": {
   "display_name": "Python 3 (ipykernel)",
   "language": "python",
   "name": "python3"
  },
  "language_info": {
   "codemirror_mode": {
    "name": "ipython",
    "version": 3
   },
   "file_extension": ".py",
   "mimetype": "text/x-python",
   "name": "python",
   "nbconvert_exporter": "python",
   "pygments_lexer": "ipython3",
   "version": "3.10.6"
  }
 },
 "nbformat": 4,
 "nbformat_minor": 2
}
